{
 "cells": [
  {
   "cell_type": "code",
   "execution_count": 1,
   "metadata": {
    "init_cell": true
   },
   "outputs": [],
   "source": [
    "from sample_bathy import SampleBathy\n",
    "from ipywidgets import IntText, FloatText, Output, Button, IntSlider, Dropdown\n",
    "from ipywidgets import Box, VBox, HBox, Label, Layout, Text, BoundedIntText\n",
    "from IPython.display import HTML\n",
    "import glob"
   ]
  },
  {
   "cell_type": "code",
   "execution_count": 2,
   "metadata": {
    "init_cell": true
   },
   "outputs": [],
   "source": [
    "be = SampleBathy()\n",
    "be.read_survey_array_from_file('surveys.nc')\n",
    "\n",
    "n_ens = IntText(value=100)\n",
    "n_vec = IntText(value=10)\n",
    "stdev = FloatText(value=1.0)\n",
    "output1 = Output()\n",
    "output2 = Output()\n",
    "output3 = Output()\n",
    "output4 = Output()\n",
    "\n",
    "ensemble_member = BoundedIntText(\n",
    "    description='Member:', min=0, max=n_ens.value-1, layout=Layout(width='148px'))\n",
    "survey_member = BoundedIntText(\n",
    "    description='Member:', min=0, max=be.survey_array.shape[1]-1, layout=Layout(width='148px'))\n",
    "\n",
    "def generate_ensemble(click):\n",
    "    be.generate_ensemble(n_ens.value, stdev=stdev.value, n_svec=n_vec.value)\n",
    "        \n",
    "run_button = Button(description='Generate Ensemble')\n",
    "run_button.on_click(generate_ensemble)\n",
    "\n",
    "def plot_survey_mean(click):\n",
    "    output1.clear_output()\n",
    "    be.compute_survey_mean()\n",
    "    with output1:\n",
    "        be.plot(be.survey_mean, title='Survey mean')\n",
    "    \n",
    "survey_mean_button = Button(description='Plot survey mean')\n",
    "survey_mean_button.on_click(plot_survey_mean)\n",
    "\n",
    "def plot_ensemble_mean(click):\n",
    "    output2.clear_output()\n",
    "    with output2:\n",
    "        try:\n",
    "            be.compute_ensemble_mean()\n",
    "        except:\n",
    "            print('Generate ensemble above.')\n",
    "            return\n",
    "        be.plot(be.ensemble_mean, title='Ensemble mean')\n",
    "\n",
    "ensemble_mean_button = Button(description='Plot ensemble mean')\n",
    "ensemble_mean_button.on_click(plot_ensemble_mean)\n",
    "\n",
    "def plot_ensemble_member(click):\n",
    "    output3.clear_output()\n",
    "    member = ensemble_member.value\n",
    "    with output3:\n",
    "        try:\n",
    "            be.plot(be.ensemble_array[:,member], title='Ensemble {}'.format(member))\n",
    "        except:\n",
    "            print('Generate ensemble above.')\n",
    "\n",
    "ensemble_member_button = Button(description='Plot ens. member')\n",
    "ensemble_member_button.on_click(plot_ensemble_member)\n",
    "\n",
    "def plot_survey_member(click):\n",
    "    output4.clear_output()\n",
    "    member = survey_member.value\n",
    "    with output4:\n",
    "        be.plot(be.survey_array[:,member], title='Survey {}'.format(member))\n",
    "\n",
    "survey_member_button = Button(description='Plot survey member')\n",
    "survey_member_button.on_click(plot_survey_member)\n",
    "\n",
    "def save_ensemble(click):\n",
    "    filename = output_filename.value\n",
    "    output5.clear_output()\n",
    "    with output5:\n",
    "        try:\n",
    "            be.ensemble_array\n",
    "        except:\n",
    "            print('Generate ensemble above')\n",
    "            return\n",
    "        be.write_ensemble_array_to_nc(filename)\n",
    "        \n",
    "file_input = Dropdown(options=glob.glob('*.nc'))\n",
    "\n",
    "def load_ensemble(click):\n",
    "    filename = file_input.value\n",
    "    be.read_ensemble_array_from_file(filename)\n",
    "    \n",
    "load_button = Button(description='Load ensemble')\n",
    "load_button.on_click(load_ensemble)\n",
    "\n",
    "save_button = Button(description='Save ensemble')\n",
    "save_button.on_click(save_ensemble)\n",
    "\n",
    "output_filename = Text(description='Filename:', value='ensemble.nc')\n",
    "\n",
    "output5 = Output()"
   ]
  },
  {
   "cell_type": "markdown",
   "metadata": {},
   "source": [
    "### Overview\n",
    "This notebook generates and ensemble of bathymetry realizations informed by the FRF integrated bathymetry product (Young, Bak, and Forte, 2018) from between 2006 and 2019. An anomaly array is constructed from the integrated bathymetry array, and a singular value decomposition (SVD) is performed on the anomaly array. New bathymetry realizations are produced by taking combinations of the principle modes of the SVD. The user may select the number of principle modes and the standard deviation of the standard normal distribution used to determine the weights assigned to each mode."
   ]
  },
  {
   "cell_type": "markdown",
   "metadata": {},
   "source": [
    "### Generate Ensemble or Load Existing Ensemble"
   ]
  },
  {
   "cell_type": "code",
   "execution_count": 4,
   "metadata": {
    "init_cell": true
   },
   "outputs": [
    {
     "data": {
      "application/vnd.jupyter.widget-view+json": {
       "model_id": "af5b65a064044175b175f0f2b4ef8e79",
       "version_major": 2,
       "version_minor": 0
      },
      "text/plain": [
       "HBox(children=(VBox(children=(Label(value='Ensemble members'), IntText(value=100), Label(value='Number of mode…"
      ]
     },
     "metadata": {},
     "output_type": "display_data"
    }
   ],
   "source": [
    "HBox(\n",
    "    [VBox(\n",
    "        [Label('Ensemble members'),\n",
    "         n_ens,\n",
    "         Label('Number of modes for sampling'),\n",
    "         n_vec,\n",
    "         Label('Standard deviation of distribution'),\n",
    "         stdev,\n",
    "         run_button]), \n",
    "     Box([], layout=Layout(width='50px')),\n",
    "     VBox(\n",
    "         [Box([], layout=Layout(height='128px')),\n",
    "          Label('Select ensemble file'),\n",
    "          file_input, \n",
    "          load_button])])"
   ]
  },
  {
   "cell_type": "markdown",
   "metadata": {},
   "source": [
    "### Visualization"
   ]
  },
  {
   "cell_type": "code",
   "execution_count": 5,
   "metadata": {
    "init_cell": true
   },
   "outputs": [
    {
     "data": {
      "application/vnd.jupyter.widget-view+json": {
       "model_id": "7283d67728294d76aecaf3e877c8c63f",
       "version_major": 2,
       "version_minor": 0
      },
      "text/plain": [
       "HBox(children=(VBox(children=(Button(description='Plot survey mean', style=ButtonStyle()), Box(layout=Layout(h…"
      ]
     },
     "metadata": {},
     "output_type": "display_data"
    }
   ],
   "source": [
    "HBox(\n",
    "    [VBox([survey_mean_button, Box([], layout=Layout(height='33px')), output1]), \n",
    "     VBox([ensemble_mean_button, Box([], layout=Layout(height='33px')), output2]), \n",
    "     VBox([ensemble_member_button, ensemble_member, output3]),\n",
    "     VBox([survey_member_button, survey_member, output4])])"
   ]
  },
  {
   "cell_type": "markdown",
   "metadata": {},
   "source": [
    "### Save Ensemble\n",
    "The ensemble array is saved to a netCDF file in the same directory as the notebook. Existing files are not overwritten."
   ]
  },
  {
   "cell_type": "code",
   "execution_count": 7,
   "metadata": {
    "init_cell": true
   },
   "outputs": [
    {
     "data": {
      "application/vnd.jupyter.widget-view+json": {
       "model_id": "6c6ed185d04d4c8eb615e623a956ca2f",
       "version_major": 2,
       "version_minor": 0
      },
      "text/plain": [
       "VBox(children=(HBox(children=(Button(description='Save ensemble', style=ButtonStyle()), Text(value='ensemble10…"
      ]
     },
     "metadata": {},
     "output_type": "display_data"
    }
   ],
   "source": [
    "VBox(\n",
    "    [HBox([save_button, output_filename]),\n",
    "     output5])"
   ]
  },
  {
   "cell_type": "code",
   "execution_count": 8,
   "metadata": {
    "init_cell": true
   },
   "outputs": [
    {
     "data": {
      "text/html": [
       "<script>\n",
       "code_show=true; \n",
       "function code_toggle() {\n",
       " if (code_show){\n",
       " $('div.input').hide();\n",
       " } else {\n",
       " $('div.input').show();\n",
       " }\n",
       " code_show = !code_show\n",
       "} \n",
       "$( document ).ready(code_toggle);\n",
       "</script>\n",
       "The raw code for this IPython notebook is by default hidden for easier reading.\n",
       "To toggle on/off the raw code, click <a href=\"javascript:code_toggle()\">here</a>."
      ],
      "text/plain": [
       "<IPython.core.display.HTML object>"
      ]
     },
     "execution_count": 8,
     "metadata": {},
     "output_type": "execute_result"
    }
   ],
   "source": [
    "HTML('''<script>\n",
    "code_show=true; \n",
    "function code_toggle() {\n",
    " if (code_show){\n",
    " $('div.input').hide();\n",
    " } else {\n",
    " $('div.input').show();\n",
    " }\n",
    " code_show = !code_show\n",
    "} \n",
    "$( document ).ready(code_toggle);\n",
    "</script>\n",
    "The raw code for this IPython notebook is by default hidden for easier reading.\n",
    "To toggle on/off the raw code, click <a href=\"javascript:code_toggle()\">here</a>.''')"
   ]
  },
  {
   "cell_type": "code",
   "execution_count": null,
   "metadata": {},
   "outputs": [],
   "source": []
  },
  {
   "cell_type": "code",
   "execution_count": null,
   "metadata": {},
   "outputs": [],
   "source": []
  }
 ],
 "metadata": {
  "celltoolbar": "Initialization Cell",
  "kernelspec": {
   "display_name": "Python 3",
   "language": "python",
   "name": "python3"
  },
  "language_info": {
   "codemirror_mode": {
    "name": "ipython",
    "version": 3
   },
   "file_extension": ".py",
   "mimetype": "text/x-python",
   "name": "python",
   "nbconvert_exporter": "python",
   "pygments_lexer": "ipython3",
   "version": "3.7.3"
  }
 },
 "nbformat": 4,
 "nbformat_minor": 2
}
